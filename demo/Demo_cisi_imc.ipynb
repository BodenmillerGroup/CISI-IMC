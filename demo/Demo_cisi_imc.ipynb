{
 "cells": [
  {
   "cell_type": "markdown",
   "id": "c56685f3",
   "metadata": {},
   "source": [
    "# CISI-IMC demo\n",
    "Here you can test how CISI-IMC works with a subset of training dataset and evaluation dataset."
   ]
  },
  {
   "cell_type": "markdown",
   "id": "31f469f8",
   "metadata": {},
   "source": [
    "# 0. Set up libraries and paths"
   ]
  },
  {
   "cell_type": "code",
   "execution_count": 1,
   "id": "a3c08ed7",
   "metadata": {},
   "outputs": [],
   "source": [
    "from pathlib import Path\n",
    "import anndata as ad\n",
    "import pandas as pd\n",
    "import numpy as np\n",
    "import matplotlib.pyplot as plt\n",
    "import os"
   ]
  },
  {
   "cell_type": "code",
   "execution_count": 2,
   "id": "07cd57c0",
   "metadata": {},
   "outputs": [],
   "source": [
    "# Import system libraries to configure code directory as module\n",
    "from os.path import dirname, abspath, join\n",
    "import sys\n",
    "\n",
    "# Find code directory relative to our directory\n",
    "THIS_DIR = dirname('__file__')\n",
    "CODE_DIR = abspath(join(THIS_DIR, '..', 'code'))\n",
    "# Add code directory to systems paths\n",
    "sys.path.append(CODE_DIR)"
   ]
  },
  {
   "cell_type": "code",
   "execution_count": 3,
   "id": "bae64265",
   "metadata": {},
   "outputs": [],
   "source": [
    "# Import functions from 'code' dir\n",
    "from smaf import smaf\n",
    "from utils import analyse_decoding, produce_random_As, sparse_decode_blocks_lasso\n",
    "from simulate_A import simulate_A"
   ]
  },
  {
   "cell_type": "markdown",
   "id": "a73b5c52",
   "metadata": {},
   "source": [
    "# 1. training U and A\n",
    "To reduce the calculation time for this demo, training dataset is subset to 10% of original dataset."
   ]
  },
  {
   "cell_type": "code",
   "execution_count": 4,
   "id": "f029181d",
   "metadata": {},
   "outputs": [],
   "source": [
    "# set path\n",
    "sce_path = '/mnt/projects/data/demo_sces/training_sce_demo.h5ad' # change to where the demo data exists\n",
    "out_path = Path.cwd()/'output'\n",
    "out_path.mkdir(parents=True, exist_ok=True)"
   ]
  },
  {
   "cell_type": "code",
   "execution_count": 5,
   "id": "60957d0e",
   "metadata": {},
   "outputs": [],
   "source": [
    "# read sce\n",
    "sce = ad.read_h5ad(sce_path)"
   ]
  },
  {
   "cell_type": "markdown",
   "id": "d37885c2",
   "metadata": {},
   "source": [
    "## 1a. dictionary U \n",
    "First, we calculate U (module dictionary) using SMAF on training dataset X. SMAF calculates U by iteratively decomposing X into U and W (single-cell module activity).  \n",
    "\n",
    "See code/smaf.py for more detailed explanation of each parameter"
   ]
  },
  {
   "cell_type": "code",
   "execution_count": 6,
   "id": "ae23296c",
   "metadata": {},
   "outputs": [],
   "source": [
    "## Set params for U\n",
    "# set variables\n",
    "d = 80            # initial number of modules in U\n",
    "maxItr = 100      # number of iterations of calculating U and W\n",
    "nthread = -1      # number of threads used during SMAF\n",
    "\n",
    "# main parameter\n",
    "methodW = 'lasso' # lasso or omp to calculate W\n",
    "nblocksW_lasso =1 # number of blocks into which X was split, during calculating W \n",
    "ldaW = 0.02       # error tolerance for lasso for W\n",
    "ldaU = 0.02       # error torelance for lasso for U"
   ]
  },
  {
   "cell_type": "code",
   "execution_count": 7,
   "id": "2a3aa812",
   "metadata": {},
   "outputs": [
    {
     "name": "stdout",
     "output_type": "stream",
     "text": [
      "Initialized U, W with NMF, SMAF maxItr =  100\n"
     ]
    }
   ],
   "source": [
    "# calculate U\n",
    "U,W,X = smaf(sce,d,maxItr,methodW,ldaU, ldaW=ldaW, THREADS=nthread,  X_normalization='paper_norm',\n",
    "          num_blocks_W=nblocksW_lasso, num_blocks_U=1, layer=None, Normalize_U=True, saveItr=False) "
   ]
  },
  {
   "cell_type": "code",
   "execution_count": 8,
   "id": "5c8cf549",
   "metadata": {},
   "outputs": [],
   "source": [
    "# save U \n",
    "U_df = pd.DataFrame(U, columns=list(range(1, U.shape[1]+1)),index=sce.var_names)\n",
    "U_df.to_csv(os.path.join(out_path, 'U_demo.csv'))"
   ]
  },
  {
   "cell_type": "markdown",
   "id": "99b0e06e",
   "metadata": {},
   "source": [
    "# 1b. barcoding matrix A\n",
    "Next, to select optimal barcoding marix A, which defines a combination of isotope labels for each target protein, we randomly create As and simulate thier decompression performamce. An A with highest simulated correlation of the worst performing protein is selected as the best A.\n",
    "\n",
    "In our manuscipt, 8000 As were tested on different subset of training dataset, but here we just simulate 20 As for demonstration purpose."
   ]
  },
  {
   "cell_type": "code",
   "execution_count": 9,
   "id": "7b9d568c",
   "metadata": {},
   "outputs": [],
   "source": [
    "## set params for random As\n",
    "# n_A_each * n_L0sum is the total number of As that will be simulated here.\n",
    "n_A_each = 5     # n of random As produced per unique L0sum\n",
    "n_L0sum = 4      # n of usinque L0 sum to  test (from the max)\n",
    "\n",
    "g = np.shape(sce.X)[1] #no of total proteins\n",
    "m = 8            # n of composite channels \n",
    "n = (1,2)        # [min,max] of channels per protein\n",
    "d_thresh = 0.8   # distance threshold per protein\n",
    "\n",
    "# Set params for simulatinbg A \n",
    "nsr = 0          # one can add random gaussian noise by increasing this (noise-to-signal ratio)\n",
    "ldaW_dc = 0.002  # error torelance for calculating W during simulation"
   ]
  },
  {
   "cell_type": "code",
   "execution_count": 10,
   "id": "574bd818",
   "metadata": {},
   "outputs": [
    {
     "name": "stdout",
     "output_type": "stream",
     "text": [
      "Random 20 As with L0sum between 29 and 32. 16 genes into 8 channels, max 2 channels per gene\n",
      "6 4\n"
     ]
    }
   ],
   "source": [
    "# priduce random As\n",
    "Phi = produce_random_As(n_A_each=n_A_each, n_L0sum=n_L0sum, m=m , n=n, d_thresh=d_thresh, g=g)"
   ]
  },
  {
   "cell_type": "code",
   "execution_count": 11,
   "id": "65c7cc04",
   "metadata": {},
   "outputs": [
    {
     "name": "stderr",
     "output_type": "stream",
     "text": [
      "/home/ubuntu/miniconda3/envs/test_cisi_imc_env/lib/python3.10/site-packages/scipy/spatial/distance.py:622: RuntimeWarning: invalid value encountered in double_scalars\n",
      "  dist = 1.0 - uv / np.sqrt(uu * vv)\n"
     ]
    }
   ],
   "source": [
    "# simulate random As and record corr for worst performing protein\n",
    "Mincorr = np.array([])\n",
    "for phi_id, phi in enumerate(Phi):\n",
    "    X, Xhat, W, Y = simulate_A(sce, U, phi, nsr, decoding_lasso_lda = ldaW_dc,\n",
    "                             outpath=None, THREADS=-1, layer=None, num_blocks=20)\n",
    "    # get simulation results\n",
    "    res_A, _ = analyse_decoding(phi,U,W,X,Xhat, name=\"\", detail=False)\n",
    "    Mincorr = np.append(Mincorr,res_A[1])"
   ]
  },
  {
   "cell_type": "code",
   "execution_count": 12,
   "id": "76911649",
   "metadata": {},
   "outputs": [],
   "source": [
    "# select best A\n",
    "A = Phi[np.argmax(Mincorr)]"
   ]
  },
  {
   "cell_type": "code",
   "execution_count": 13,
   "id": "50393bb6",
   "metadata": {},
   "outputs": [],
   "source": [
    "# save A\n",
    "A_df = pd.DataFrame(A, columns = sce.var.index)\n",
    "A_df.to_csv(os.path.join(out_path,'A_demo.csv'))"
   ]
  },
  {
   "cell_type": "markdown",
   "id": "087898d0",
   "metadata": {},
   "source": [
    "# 2. (Lab experiment) Prepare antibody mix according to the selected A"
   ]
  },
  {
   "cell_type": "markdown",
   "id": "c4d94818",
   "metadata": {},
   "source": [
    "# 3. (Lab experiment) Image target tissue with the antibody mix to obtain Y\n",
    "Y: Composite single-cell expression data. To evaluate the decompression performance, co-stain the target tissue with ground truth antibody mix (single channel (e.g., istope label) per antibody). "
   ]
  },
  {
   "cell_type": "markdown",
   "id": "7a81105c",
   "metadata": {},
   "source": [
    "# 4. Decompress measured Y\n",
    "Here we use 10% of the evaluation dataset used in this work, which contains composite data Y and mached ground truth data Xtrue to evaluate the decompression performance. Measured Y is decompressed to A, U, and W, which yeilds decompressed single-cell expression data X via X = UW.\n",
    "\n",
    "A and U used below is the ones used in the publication, not the ones calculated above, to match the evaluation dataset. "
   ]
  },
  {
   "cell_type": "code",
   "execution_count": 14,
   "id": "d8be8e95",
   "metadata": {},
   "outputs": [],
   "source": [
    "# set path\n",
    "sce_path = '/mnt/projects/data/demo_sces/evaluation_sce_demo.h5ad' # change to where the demo data exists\n",
    "A_path = '/mnt/projects/data/publication_2/9_CISI_actual/A.csv' # change to where the demo data exists\n",
    "U_path = '/mnt/projects/data/publication_2/9_CISI_actual/U.csv' # change to where the demo data exists"
   ]
  },
  {
   "cell_type": "code",
   "execution_count": 15,
   "id": "590fdddf",
   "metadata": {},
   "outputs": [
    {
     "data": {
      "text/plain": [
       "(View of AnnData object with n_obs × n_vars = 16140 × 16\n",
       "     obs: 'sample_id', 'ObjectNumber', 'width_px', 'height_px', 'core_id'\n",
       "     var: 'channel', 'name', 'keep', 'ilastik', 'deepcell', 'cellpose', 'channel_type'\n",
       "     uns: 'X_name',\n",
       " View of AnnData object with n_obs × n_vars = 16140 × 8\n",
       "     obs: 'sample_id', 'ObjectNumber', 'width_px', 'height_px', 'core_id'\n",
       "     var: 'channel', 'name', 'keep', 'ilastik', 'deepcell', 'cellpose', 'channel_type'\n",
       "     uns: 'X_name')"
      ]
     },
     "execution_count": 15,
     "metadata": {},
     "output_type": "execute_result"
    }
   ],
   "source": [
    "# read sce \n",
    "sce = ad.read_h5ad(sce_path)\n",
    "\n",
    "# subset ground truth channel and CISI channel\n",
    "sce_gt = sce[:,sce.var.channel_type == \"GT\"]\n",
    "sce_cisi = sce[:,sce.var.channel_type == \"CISI\"]\n",
    "sce_gt,sce_cisi"
   ]
  },
  {
   "cell_type": "code",
   "execution_count": 16,
   "id": "33340e5c",
   "metadata": {},
   "outputs": [],
   "source": [
    "# read A and U\n",
    "A = pd.read_csv(A_path, index_col = 0)\n",
    "U = pd.read_csv(U_path, index_col = 0)"
   ]
  },
  {
   "cell_type": "markdown",
   "id": "3c473d57",
   "metadata": {},
   "source": [
    "## Decompress and evaluate"
   ]
  },
  {
   "cell_type": "code",
   "execution_count": 17,
   "id": "b971af4d",
   "metadata": {},
   "outputs": [
    {
     "name": "stderr",
     "output_type": "stream",
     "text": [
      "/home/ubuntu/miniconda3/envs/test_cisi_imc_env/lib/python3.10/site-packages/scipy/spatial/distance.py:622: RuntimeWarning: invalid value encountered in double_scalars\n",
      "  dist = 1.0 - uv / np.sqrt(uu * vv)\n"
     ]
    }
   ],
   "source": [
    "# parameters\n",
    "ldaW_dc = 0.02\n",
    "nblocks = 200\n",
    "\n",
    "# get composite data and ground truth data from anndata\n",
    "Y = (sce_cisi.X).T\n",
    "Xtrue = (sce_gt.X).T\n",
    "\n",
    "# Decode\n",
    "W = sparse_decode_blocks_lasso(Y = Y, D = np.array(A).dot(np.array(U)), lda = ldaW_dc, numThreads = -1, num_blocks = nblocks)\n",
    "Xhat = np.array(U).dot(W)\n",
    "Xhat[np.isnan(Xhat)] = 0\n",
    "\n",
    "# analyze results\n",
    "res, coln, details = analyse_decoding(A,U,W,Xtrue, Xhat, name=\"\", detail=True)\n",
    "\n",
    "# general results\n",
    "df = pd.DataFrame(res).T # .T added since it's 1D DF\n",
    "df.columns = coln\n",
    "\n",
    "# genewise results\n",
    "df_genewise = pd.DataFrame(details[0]).T\n",
    "df_genewise.columns = [p.split('_')[-1] for p in sce_gt.var.index]"
   ]
  },
  {
   "cell_type": "code",
   "execution_count": 18,
   "id": "dcee13c0",
   "metadata": {},
   "outputs": [
    {
     "data": {
      "text/html": [
       "<div>\n",
       "<style scoped>\n",
       "    .dataframe tbody tr th:only-of-type {\n",
       "        vertical-align: middle;\n",
       "    }\n",
       "\n",
       "    .dataframe tbody tr th {\n",
       "        vertical-align: top;\n",
       "    }\n",
       "\n",
       "    .dataframe thead th {\n",
       "        text-align: right;\n",
       "    }\n",
       "</style>\n",
       "<table border=\"1\" class=\"dataframe\">\n",
       "  <thead>\n",
       "    <tr style=\"text-align: right;\">\n",
       "      <th></th>\n",
       "      <th>Gene_average</th>\n",
       "      <th>Gene_minimum</th>\n",
       "      <th>Cell_average</th>\n",
       "      <th>Fit</th>\n",
       "      <th>W_l0_mean</th>\n",
       "      <th>AU_90p_coherence</th>\n",
       "    </tr>\n",
       "  </thead>\n",
       "  <tbody>\n",
       "    <tr>\n",
       "      <th>0</th>\n",
       "      <td>0.790004</td>\n",
       "      <td>0.515052</td>\n",
       "      <td>0.708447</td>\n",
       "      <td>0.468801</td>\n",
       "      <td>4.96487</td>\n",
       "      <td>0.637316</td>\n",
       "    </tr>\n",
       "  </tbody>\n",
       "</table>\n",
       "</div>"
      ],
      "text/plain": [
       "   Gene_average  Gene_minimum  Cell_average       Fit  W_l0_mean  \\\n",
       "0      0.790004      0.515052      0.708447  0.468801    4.96487   \n",
       "\n",
       "   AU_90p_coherence  \n",
       "0          0.637316  "
      ]
     },
     "execution_count": 18,
     "metadata": {},
     "output_type": "execute_result"
    }
   ],
   "source": [
    "# summary of results\n",
    "df"
   ]
  },
  {
   "cell_type": "code",
   "execution_count": 19,
   "id": "c9202aa7",
   "metadata": {},
   "outputs": [
    {
     "data": {
      "text/html": [
       "<div>\n",
       "<style scoped>\n",
       "    .dataframe tbody tr th:only-of-type {\n",
       "        vertical-align: middle;\n",
       "    }\n",
       "\n",
       "    .dataframe tbody tr th {\n",
       "        vertical-align: top;\n",
       "    }\n",
       "\n",
       "    .dataframe thead th {\n",
       "        text-align: right;\n",
       "    }\n",
       "</style>\n",
       "<table border=\"1\" class=\"dataframe\">\n",
       "  <thead>\n",
       "    <tr style=\"text-align: right;\">\n",
       "      <th></th>\n",
       "      <th>MPO</th>\n",
       "      <th>SMA</th>\n",
       "      <th>CD38</th>\n",
       "      <th>CD68</th>\n",
       "      <th>CD163</th>\n",
       "      <th>CD20</th>\n",
       "      <th>CD3</th>\n",
       "      <th>DC-LAMP</th>\n",
       "      <th>CD7</th>\n",
       "      <th>GranzymeB</th>\n",
       "      <th>Ki-67</th>\n",
       "      <th>CD8a</th>\n",
       "      <th>FOXP3</th>\n",
       "      <th>CD303</th>\n",
       "      <th>CD4</th>\n",
       "      <th>CD31</th>\n",
       "    </tr>\n",
       "  </thead>\n",
       "  <tbody>\n",
       "    <tr>\n",
       "      <th>0</th>\n",
       "      <td>0.7063</td>\n",
       "      <td>0.884766</td>\n",
       "      <td>0.878443</td>\n",
       "      <td>0.659911</td>\n",
       "      <td>0.831331</td>\n",
       "      <td>0.928919</td>\n",
       "      <td>0.897238</td>\n",
       "      <td>0.62288</td>\n",
       "      <td>0.900949</td>\n",
       "      <td>0.848323</td>\n",
       "      <td>0.685</td>\n",
       "      <td>0.84122</td>\n",
       "      <td>0.515052</td>\n",
       "      <td>0.691687</td>\n",
       "      <td>0.950289</td>\n",
       "      <td>0.797758</td>\n",
       "    </tr>\n",
       "  </tbody>\n",
       "</table>\n",
       "</div>"
      ],
      "text/plain": [
       "      MPO       SMA      CD38      CD68     CD163      CD20       CD3  \\\n",
       "0  0.7063  0.884766  0.878443  0.659911  0.831331  0.928919  0.897238   \n",
       "\n",
       "   DC-LAMP       CD7  GranzymeB  Ki-67     CD8a     FOXP3     CD303       CD4  \\\n",
       "0  0.62288  0.900949   0.848323  0.685  0.84122  0.515052  0.691687  0.950289   \n",
       "\n",
       "       CD31  \n",
       "0  0.797758  "
      ]
     },
     "execution_count": 19,
     "metadata": {},
     "output_type": "execute_result"
    }
   ],
   "source": [
    "# gene-wise Pearson's correlation between decompressed expression and ground truth expression\n",
    "df_genewise"
   ]
  },
  {
   "cell_type": "code",
   "execution_count": null,
   "id": "7ababf0e",
   "metadata": {},
   "outputs": [],
   "source": []
  }
 ],
 "metadata": {
  "kernelspec": {
   "display_name": "test_cisi_imc_env",
   "language": "python",
   "name": "test_cisi_imc_env"
  },
  "language_info": {
   "codemirror_mode": {
    "name": "ipython",
    "version": 3
   },
   "file_extension": ".py",
   "mimetype": "text/x-python",
   "name": "python",
   "nbconvert_exporter": "python",
   "pygments_lexer": "ipython3",
   "version": "3.10.9"
  }
 },
 "nbformat": 4,
 "nbformat_minor": 5
}
