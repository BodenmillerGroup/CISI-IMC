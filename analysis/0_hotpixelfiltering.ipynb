{
 "cells": [
  {
   "cell_type": "markdown",
   "id": "4da720e3",
   "metadata": {},
   "source": [
    "# Custom hot pixel filtering\n",
    "Used to preprocess evaluation dataset.\n",
    "\n",
    "Instead of using default hot pixel filtering in Steinbock  pipeline, this script was used. \n",
    "\n",
    "Outout of this script is filtered images in tifffile and a csv file summarising the removed hot pixels.\n",
    "\n",
    "Transfer the filtered images into Steinbock img/ folder and continue with the next steps in the Steinbock pipline.  (e.g. calculating cell masks)\n",
    "\n",
    "## Improt libraries"
   ]
  },
  {
   "cell_type": "code",
   "execution_count": 3,
   "id": "0d6a66b2",
   "metadata": {},
   "outputs": [
    {
     "name": "stderr",
     "output_type": "stream",
     "text": [
      "/home/ubuntu/miniconda3/envs/test_cisi_imc_env/lib/python3.10/site-packages/paramiko/transport.py:219: CryptographyDeprecationWarning: Blowfish has been deprecated\n",
      "  \"class\": algorithms.Blowfish,\n"
     ]
    }
   ],
   "source": [
    "import anndata as ad\n",
    "from pathlib import Path\n",
    "import os\n",
    "import numpy as np\n",
    "import pandas as pd\n",
    "import errno\n",
    "import glob\n",
    "import skimage\n",
    "import matplotlib.pyplot as plt\n",
    "from scipy.ndimage import maximum_filter, minimum_filter\n",
    "import tifffile"
   ]
  },
  {
   "cell_type": "markdown",
   "id": "82fcf769",
   "metadata": {},
   "source": [
    "## Specify input and output folder"
   ]
  },
  {
   "cell_type": "code",
   "execution_count": 6,
   "id": "6fb257b1",
   "metadata": {},
   "outputs": [],
   "source": [
    "# path to data\n",
    "input_path = Path('/mnt/projects/data/publication_2/0_preprocess_evaluationdataset')\n",
    "\n",
    "# path to raw images data\n",
    "img_paths = glob.glob(os.path.join(input_path,'img_original/*.tiff'))\n",
    "\n",
    "# set output dir\n",
    "out_path = Path(os.path.join(input_path, 'steinbock_cthpf/img'))\n",
    "# Create output directory if it doesn't exist\n",
    "out_path.mkdir(parents=True, exist_ok=True)"
   ]
  },
  {
   "cell_type": "markdown",
   "id": "4b91d536",
   "metadata": {},
   "source": [
    "## Define custom hot pixel filtering method\n",
    "for each hot pixel detected, take min value from surrounging pixel and propagete the value to self and surrounding pixels."
   ]
  },
  {
   "cell_type": "code",
   "execution_count": 7,
   "id": "547948e3",
   "metadata": {},
   "outputs": [],
   "source": [
    "def custom_hbpf(matrix_cxy,c,x,y,v):\n",
    "    matrix_cxy[c,x,y] = v\n",
    "    matrix_cxy[c,x+1,y] = v\n",
    "    matrix_cxy[c,x-1,y] = v\n",
    "    matrix_cxy[c,x,y+1] = v\n",
    "    matrix_cxy[c,x+1,y+1] = v\n",
    "    matrix_cxy[c,x-1,y+1] = v\n",
    "    matrix_cxy[c,x,y-1] = v\n",
    "    matrix_cxy[c,x+1,y-1] = v\n",
    "    matrix_cxy[c,x-1,y-1] = v\n",
    "    return matrix_cxy"
   ]
  },
  {
   "cell_type": "markdown",
   "id": "7792e44d",
   "metadata": {},
   "source": [
    "## Detect hot pixels and perform custom filtering\n",
    "A pixel was defined as a hot pixel if 1. it was brighter than the brightest surrounding pixels by more than 100 counts or 2. it was brighter than 500 counts. After custom hot pixel filtering, standard hot pixel filtering (sane as the default Steinbock filtering) was also performed."
   ]
  },
  {
   "cell_type": "code",
   "execution_count": 8,
   "id": "1c1d886f",
   "metadata": {},
   "outputs": [],
   "source": [
    "# set threshold (count) for hot pixel and bright pixel\n",
    "hpthd = 100 # (signed) difference in count value compared to max of surrounding pixel\n",
    "bpthd = 500 # raw count value\n",
    "# set kernel for surrounding pixel (excluding self)\n",
    "kernel = np.ones((1, 3, 3), dtype=bool)\n",
    "kernel[0, 1, 1] = False\n",
    "# list for storing hotpixels\n",
    "hbplist = np.empty((6,0))\n",
    "\n",
    "for img_id, ip in enumerate(img_paths):\n",
    "    # read images\n",
    "    ti = tifffile.imread(ip)\n",
    "    # remove Extra markers (PankCK:Lu175,Ir191,Ir193) for hpf (will be concatenated after filtering)\n",
    "    img = ti[:-3,:,:] \n",
    "    nuc_img = ti[-3:,:,:]\n",
    "    # calculate maximum value of surrounding pixel (excluding self) for each pixel\n",
    "    max_neighbor_img = maximum_filter(img, footprint=kernel, mode=\"mirror\")\n",
    "    # caluclate minimum value of surrounding pixel as a repolacement value\n",
    "    min_neighbor_img = minimum_filter(img, footprint=kernel, mode=\"mirror\")\n",
    "    # find hot/bright pixels (hbp) and get color, x, y, value of them\n",
    "    cxy = np.array(np.nonzero((img - max_neighbor_img > hpthd)|(img > bpthd)))\n",
    "    cxyv = np.append(cxy,np.array([img[cxy[0],cxy[1],cxy[2]]],dtype = np.int32),axis = 0)\n",
    "    cxyv = cxyv[:,cxyv[-1,:].argsort()[::-1]] # sorted from brightest  \n",
    "    # create edge extended image for custom filtering\n",
    "    tmp_img = np.append(img, img[:,[-1],:], axis = 1) # add dummy row\n",
    "    tmp_img = np.append(tmp_img, tmp_img[:,:,[-1]], axis = 2) # add dummy col\n",
    "    # for each hbp, take min value from surrounging pixel and propagete the value to self and surrounding pixels\n",
    "    for cur_cxyv in cxyv.T: \n",
    "        tmp_img = custom_hbpf(tmp_img, cur_cxyv[0],cur_cxyv[1],cur_cxyv[2],\n",
    "                              min_neighbor_img[cur_cxyv[0],cur_cxyv[1],cur_cxyv[2]])\n",
    "\n",
    "    # perform standard hot pixel filtering (thd = 50, taking the max of neighboring pixel) \n",
    "    # plus remove dummy edges and save \n",
    "    fimg = np.where(tmp_img[:,:-1,:-1] - max_neighbor_img > 50, max_neighbor_img, tmp_img[:,:-1,:-1])\n",
    "    \n",
    "    # save filtered images      \n",
    "    tifffile.imsave(os.path.join(out_path,ip.split(\"/\")[-1]), np.append(fimg, nuc_img, axis = 0) )\n",
    "    \n",
    "    # store hbp data into an array\n",
    "    hbplist = np.hstack((hbplist,np.vstack((cxyv,min_neighbor_img[cxyv[0],cxyv[1],cxyv[2]], np.repeat(img_id,cxyv.shape[1])))))\n",
    "    "
   ]
  },
  {
   "cell_type": "markdown",
   "id": "63b372d7",
   "metadata": {},
   "source": [
    "## Save csv \n",
    "list of hot pixels and the corresponding value, with which surrounding pixels inclusing self were replaced."
   ]
  },
  {
   "cell_type": "code",
   "execution_count": 9,
   "id": "b38bb774",
   "metadata": {},
   "outputs": [],
   "source": [
    "pd.DataFrame(hbplist.T, columns = ['channel','x','y','value_original','value_filtered','img_id']).to_csv(\n",
    "    os.path.join(out_path,'..','hot_bright_pixels.csv'))"
   ]
  }
 ],
 "metadata": {
  "kernelspec": {
   "display_name": "test_cisi_imc_env",
   "language": "python",
   "name": "test_cisi_imc_env"
  },
  "language_info": {
   "codemirror_mode": {
    "name": "ipython",
    "version": 3
   },
   "file_extension": ".py",
   "mimetype": "text/x-python",
   "name": "python",
   "nbconvert_exporter": "python",
   "pygments_lexer": "ipython3",
   "version": "3.10.9"
  }
 },
 "nbformat": 4,
 "nbformat_minor": 5
}
